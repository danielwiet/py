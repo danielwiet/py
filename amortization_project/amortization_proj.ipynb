{
 "metadata": {
  "language_info": {
   "codemirror_mode": {
    "name": "ipython",
    "version": 3
   },
   "file_extension": ".py",
   "mimetype": "text/x-python",
   "name": "python",
   "nbconvert_exporter": "python",
   "pygments_lexer": "ipython3",
   "version": "3.8.5-final"
  },
  "orig_nbformat": 2,
  "kernelspec": {
   "name": "python3",
   "display_name": "Python 3",
   "language": "python"
  }
 },
 "nbformat": 4,
 "nbformat_minor": 2,
 "cells": [
  {
   "source": [
    "https://pbpython.com/amortization-model.html"
   ],
   "cell_type": "markdown",
   "metadata": {}
  },
  {
   "source": [
    "import libraries and modules\n",
    "\n",
    "Things learned from this exercise\n",
    "    datetime needs to be imported as datetime for full functionallity to work for this project\n",
    "    input defaults as a string, but you can change it by surrounding the input function in float or int to change to numbers\n",
    "    strptime() takes the date string as a variable for the first argument, and the format '%Y-%m-%d' as the second argument and returns a value in date format\n",
    "    pd.date_range() function takes the start date (either as a variable or value), the length of the date range/how many months (periods), and the frequency (MS stands for month/start)\n",
    "    then we created a dataframe with the index range equal to the date_range, as well as labeling the columns we are will calculate\n",
    "    we want to reset the index so the first payment period starts at 1 instead of 0, so we use df.reset_index(inplace=True) and on the next line we set the df.index to +=1 (it will add 1 to the current index), finally we rename the index column\n",
    "    calculate the Payment column using the monthly payment formula (P * (i / (1 - (1 + i) ** (-1 * (n))))) where P = principal borrowed, i = monthly interest rate (interest rate / 12), and n = number of payments (length of loan * 12)\n",
    "    np.ppmt(rate, per, nper) calculates monthly principal using the monthly interest for the first argument, per is the period of the interest (as a numeric value, which is why the df.index is used), and nper is the number of compounding interest\n",
    "    np.ipmt(rate, per, nper): same as np.ppmt()\n",
    "    new columns can be calculated by declaring the df['col_name'] = (calculation)\n",
    "    [Cumulative_Principal'] takes the value in the calculated ['Principal'] column and adds the ['Addl_Payment'] column, and adds the sum from the previous index (.cumsum()) for a running total\n",
    "    ['Cumulative_Interest'] same as ['Cumulative_Principal']\n",
    "    ['Balance'] is calculated be subtracting the total Principal borrowed by the ['Cumulative_Principal'] paid. If there are additional payments, values are set to 0 for negative 'payments'\n",
    "    the dataframe is truncated automatically by keeping all rows that are non zero in the balance column\n",
    "    finally, the entire dataframe is rounded to 2 decimal places\n",
    "    pd.set_options() allows the entire datatable to be visible"
   ],
   "cell_type": "markdown",
   "metadata": {}
  },
  {
   "cell_type": "code",
   "execution_count": 1,
   "metadata": {},
   "outputs": [],
   "source": [
    "import pandas as pd\n",
    "import numpy as np\n",
    "from datetime import datetime"
   ]
  },
  {
   "source": [
    "define variables needed"
   ],
   "cell_type": "markdown",
   "metadata": {}
  },
  {
   "cell_type": "code",
   "execution_count": 2,
   "metadata": {},
   "outputs": [],
   "source": [
    "Interest_Rate = float(input(\"Enter your interest rate: \"))\n",
    "Monthly_interest = Interest_Rate / 12 / 100"
   ]
  },
  {
   "cell_type": "code",
   "execution_count": 3,
   "metadata": {},
   "outputs": [],
   "source": [
    "Years = float(input(\"Enter the legnth of loan in years: \"))\n",
    "Payments_Year = 12"
   ]
  },
  {
   "cell_type": "code",
   "execution_count": 4,
   "metadata": {},
   "outputs": [],
   "source": [
    "Principal = float(input(\"Enter your loan amount in $: \"))"
   ]
  },
  {
   "cell_type": "code",
   "execution_count": 5,
   "metadata": {},
   "outputs": [],
   "source": [
    "Principal_paydown = float(input(\"Enter your paydown amount (down payment for auto loans): \"))"
   ]
  },
  {
   "cell_type": "code",
   "execution_count": 6,
   "metadata": {},
   "outputs": [],
   "source": [
    "Addl_Payment = float(input(\"Enter additional monthly payments (if any): \"))"
   ]
  },
  {
   "source": [
    "start_date_input = str(input(\"Enter the start date as yyyy-mm-dd: \"))\n",
    "start_date = datetime.strptime(start_date_input, \"%Y-%m-%d\")"
   ],
   "cell_type": "code",
   "metadata": {},
   "execution_count": 7,
   "outputs": []
  },
  {
   "source": [
    "This helpful function creates a range for the next 30 years starting on Jan 1, 2016. The range will be used to build up the basic DataFrame we will use for the amortization schedule. Note that we need to make sure the first period is 1 not 0, hence the need to use the df.index += 1 :"
   ],
   "cell_type": "markdown",
   "metadata": {}
  },
  {
   "source": [
    "build a datetimeindex for the next x amount of years based on MS (month, start)"
   ],
   "cell_type": "markdown",
   "metadata": {}
  },
  {
   "cell_type": "code",
   "execution_count": 8,
   "metadata": {},
   "outputs": [
    {
     "output_type": "stream",
     "name": "stdout",
     "text": [
      "DatetimeIndex(['2021-01-01', '2021-02-01', '2021-03-01', '2021-04-01',\n               '2021-05-01', '2021-06-01', '2021-07-01', '2021-08-01',\n               '2021-09-01', '2021-10-01', '2021-11-01', '2021-12-01',\n               '2022-01-01', '2022-02-01', '2022-03-01', '2022-04-01',\n               '2022-05-01', '2022-06-01', '2022-07-01', '2022-08-01',\n               '2022-09-01', '2022-10-01', '2022-11-01', '2022-12-01',\n               '2023-01-01', '2023-02-01', '2023-03-01', '2023-04-01',\n               '2023-05-01', '2023-06-01', '2023-07-01', '2023-08-01',\n               '2023-09-01', '2023-10-01', '2023-11-01', '2023-12-01'],\n              dtype='datetime64[ns]', name='Payment_Date', freq='MS')\n"
     ]
    }
   ],
   "source": [
    "date_range = pd.date_range(start_date, periods=(Years * Payments_Year), freq='MS')\n",
    "date_range.name = 'Payment_Date'\n",
    "\n",
    "# periods: number of periods to generate, freq: \"MS\" stands for \"month start\"\n",
    "\n",
    "print(date_range)"
   ]
  },
  {
   "cell_type": "code",
   "execution_count": 9,
   "metadata": {},
   "outputs": [
    {
     "output_type": "stream",
     "name": "stdout",
     "text": [
      "               Payment_Date  Payment  Principal  Interest  Addl_Payment  \\\nPayment Number                                                            \n1                2021-01-01      NaN        NaN       NaN           NaN   \n2                2021-02-01      NaN        NaN       NaN           NaN   \n3                2021-03-01      NaN        NaN       NaN           NaN   \n4                2021-04-01      NaN        NaN       NaN           NaN   \n5                2021-05-01      NaN        NaN       NaN           NaN   \n6                2021-06-01      NaN        NaN       NaN           NaN   \n7                2021-07-01      NaN        NaN       NaN           NaN   \n8                2021-08-01      NaN        NaN       NaN           NaN   \n9                2021-09-01      NaN        NaN       NaN           NaN   \n10               2021-10-01      NaN        NaN       NaN           NaN   \n11               2021-11-01      NaN        NaN       NaN           NaN   \n12               2021-12-01      NaN        NaN       NaN           NaN   \n13               2022-01-01      NaN        NaN       NaN           NaN   \n14               2022-02-01      NaN        NaN       NaN           NaN   \n15               2022-03-01      NaN        NaN       NaN           NaN   \n16               2022-04-01      NaN        NaN       NaN           NaN   \n17               2022-05-01      NaN        NaN       NaN           NaN   \n18               2022-06-01      NaN        NaN       NaN           NaN   \n19               2022-07-01      NaN        NaN       NaN           NaN   \n20               2022-08-01      NaN        NaN       NaN           NaN   \n21               2022-09-01      NaN        NaN       NaN           NaN   \n22               2022-10-01      NaN        NaN       NaN           NaN   \n23               2022-11-01      NaN        NaN       NaN           NaN   \n24               2022-12-01      NaN        NaN       NaN           NaN   \n25               2023-01-01      NaN        NaN       NaN           NaN   \n26               2023-02-01      NaN        NaN       NaN           NaN   \n27               2023-03-01      NaN        NaN       NaN           NaN   \n28               2023-04-01      NaN        NaN       NaN           NaN   \n29               2023-05-01      NaN        NaN       NaN           NaN   \n30               2023-06-01      NaN        NaN       NaN           NaN   \n31               2023-07-01      NaN        NaN       NaN           NaN   \n32               2023-08-01      NaN        NaN       NaN           NaN   \n33               2023-09-01      NaN        NaN       NaN           NaN   \n34               2023-10-01      NaN        NaN       NaN           NaN   \n35               2023-11-01      NaN        NaN       NaN           NaN   \n36               2023-12-01      NaN        NaN       NaN           NaN   \n\n                Balance  \nPayment Number           \n1                   NaN  \n2                   NaN  \n3                   NaN  \n4                   NaN  \n5                   NaN  \n6                   NaN  \n7                   NaN  \n8                   NaN  \n9                   NaN  \n10                  NaN  \n11                  NaN  \n12                  NaN  \n13                  NaN  \n14                  NaN  \n15                  NaN  \n16                  NaN  \n17                  NaN  \n18                  NaN  \n19                  NaN  \n20                  NaN  \n21                  NaN  \n22                  NaN  \n23                  NaN  \n24                  NaN  \n25                  NaN  \n26                  NaN  \n27                  NaN  \n28                  NaN  \n29                  NaN  \n30                  NaN  \n31                  NaN  \n32                  NaN  \n33                  NaN  \n34                  NaN  \n35                  NaN  \n36                  NaN  \n"
     ]
    }
   ],
   "source": [
    "df = pd.DataFrame(index=date_range,columns=['Payment', 'Principal', 'Interest', 'Addl_Payment', 'Balance'], dtype='float')\n",
    "df.reset_index(inplace=True)\n",
    "df.index += 1\n",
    "df.index.name = \"Payment Number\"\n",
    "\n",
    "print(df)"
   ]
  },
  {
   "source": [
    "calculate the payment, Principal, Interest, Addl_Principal columns"
   ],
   "cell_type": "markdown",
   "metadata": {}
  },
  {
   "cell_type": "code",
   "execution_count": 13,
   "metadata": {
    "tags": []
   },
   "outputs": [
    {
     "output_type": "stream",
     "name": "stdout",
     "text": [
      "               Payment_Date  Payment  Principal  Interest  Addl_Payment  \\\nPayment Number                                                            \n1                2021-01-01    73.26      65.96      7.29           0.0   \n2                2021-02-01    73.26      66.16      7.10           0.0   \n3                2021-03-01    73.26      66.35      6.91           0.0   \n4                2021-04-01    73.26      66.54      6.71           0.0   \n5                2021-05-01    73.26      66.74      6.52           0.0   \n6                2021-06-01    73.26      66.93      6.32           0.0   \n7                2021-07-01    73.26      67.13      6.13           0.0   \n8                2021-08-01    73.26      67.32      5.93           0.0   \n9                2021-09-01    73.26      67.52      5.74           0.0   \n10               2021-10-01    73.26      67.72      5.54           0.0   \n11               2021-11-01    73.26      67.91      5.34           0.0   \n12               2021-12-01    73.26      68.11      5.14           0.0   \n13               2022-01-01    73.26      68.31      4.95           0.0   \n14               2022-02-01    73.26      68.51      4.75           0.0   \n15               2022-03-01    73.26      68.71      4.55           0.0   \n16               2022-04-01    73.26      68.91      4.35           0.0   \n17               2022-05-01    73.26      69.11      4.15           0.0   \n18               2022-06-01    73.26      69.31      3.94           0.0   \n19               2022-07-01    73.26      69.51      3.74           0.0   \n20               2022-08-01    73.26      69.72      3.54           0.0   \n21               2022-09-01    73.26      69.92      3.34           0.0   \n22               2022-10-01    73.26      70.12      3.13           0.0   \n23               2022-11-01    73.26      70.33      2.93           0.0   \n24               2022-12-01    73.26      70.53      2.72           0.0   \n25               2023-01-01    73.26      70.74      2.52           0.0   \n26               2023-02-01    73.26      70.95      2.31           0.0   \n27               2023-03-01    73.26      71.15      2.10           0.0   \n28               2023-04-01    73.26      71.36      1.90           0.0   \n29               2023-05-01    73.26      71.57      1.69           0.0   \n30               2023-06-01    73.26      71.78      1.48           0.0   \n31               2023-07-01    73.26      71.99      1.27           0.0   \n32               2023-08-01    73.26      72.20      1.06           0.0   \n33               2023-09-01    73.26      72.41      0.85           0.0   \n34               2023-10-01    73.26      72.62      0.64           0.0   \n35               2023-11-01    73.26      72.83      0.43           0.0   \n36               2023-12-01    73.26      73.04      0.21           0.0   \n\n                Balance  Cumulative_Principal  Cumulative_Interest  \nPayment Number                                                      \n1               2434.04                 65.96                 7.29  \n2               2367.88                132.12                14.39  \n3               2301.53                198.47                21.30  \n4               2234.99                265.01                28.01  \n5               2168.25                331.75                34.53  \n6               2101.32                398.68                40.85  \n7               2034.20                465.80                46.98  \n8               1966.87                533.13                52.91  \n9               1899.35                600.65                58.65  \n10              1831.64                668.36                64.19  \n11              1763.73                736.27                69.53  \n12              1695.62                804.38                74.68  \n13              1627.31                872.69                79.62  \n14              1558.80                941.20                84.37  \n15              1490.09               1009.91                88.92  \n16              1421.18               1078.82                93.26  \n17              1352.07               1147.93                97.41  \n18              1282.76               1217.24               101.35  \n19              1213.24               1286.76               105.09  \n20              1143.53               1356.47               108.63  \n21              1073.61               1426.39               111.97  \n22              1003.48               1496.52               115.10  \n23               933.15               1566.85               118.02  \n24               862.62               1637.38               120.75  \n25               791.88               1708.12               123.26  \n26               720.94               1779.06               125.57  \n27               649.78               1850.22               127.67  \n28               578.42               1921.58               129.57  \n29               506.86               1993.14               131.26  \n30               435.08               2064.92               132.73  \n31               363.09               2136.91               134.00  \n32               290.90               2209.10               135.06  \n33               218.49               2281.51               135.91  \n34               145.87               2354.13               136.55  \n35                73.04               2426.96               136.97  \n36                 0.00               2500.00               137.19  \n"
     ]
    }
   ],
   "source": [
    "df['Payment'] = (Principal - Principal_paydown) * (Monthly_interest / (1 - (1 + Monthly_interest)**(-(Years*Payments_Year))))\n",
    "\n",
    "df[\"Principal\"] = -1 * np.ppmt(Monthly_interest, df.index, Years*Payments_Year, (Principal - Principal_paydown))\n",
    "\n",
    "df[\"Interest\"] = -1 * np.ipmt(Monthly_interest, df.index, Years*Payments_Year, (Principal - Principal_paydown))\n",
    "\n",
    "df[\"Addl_Payment\"] = Addl_Payment\n",
    "\n",
    "df['Cumulative_Principal'] = (df['Principal'] + df['Addl_Payment']).cumsum()\n",
    "\n",
    "df['Cumulative_Interest'] = (df['Interest']).cumsum()\n",
    "\n",
    "df['Balance'] = (Principal - Principal_paydown) - df['Cumulative_Principal']\n",
    "\n",
    "df['Balance'] = df['Balance'].clip(lower=0)\n",
    "df = df[df['Balance']!=0]\n",
    "\n",
    "df = df.round(2)\n",
    "\n",
    "pd.set_option(\"display.max_rows\", None, \"display.max_columns\", None)\n",
    "print(df)"
   ]
  },
  {
   "cell_type": "code",
   "execution_count": null,
   "metadata": {},
   "outputs": [],
   "source": []
  }
 ]
}